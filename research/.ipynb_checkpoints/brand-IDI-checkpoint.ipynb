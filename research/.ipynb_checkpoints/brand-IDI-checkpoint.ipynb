{
 "cells": [
  {
   "cell_type": "markdown",
   "metadata": {},
   "source": [
    "Computing Word Frequency for Brand Perception Interviews\n",
    "amongst key stakeholders NYCAASC"
   ]
  },
  {
   "cell_type": "markdown",
   "metadata": {},
   "source": [
    "#### Importing Libraries"
   ]
  },
  {
   "cell_type": "code",
   "execution_count": 64,
   "metadata": {
    "collapsed": true
   },
   "outputs": [],
   "source": [
    "import re\n",
    "import nltk\n",
    "import math\n",
    "import string\n",
    "from collections import Counter\n",
    "import pandas as pd"
   ]
  },
  {
   "cell_type": "code",
   "execution_count": 71,
   "metadata": {
    "collapsed": true
   },
   "outputs": [],
   "source": [
    "from __future__ import unicode_literals"
   ]
  },
  {
   "cell_type": "code",
   "execution_count": 68,
   "metadata": {
    "collapsed": false
   },
   "outputs": [
    {
     "name": "stdout",
     "output_type": "stream",
     "text": [
      "showing info https://raw.githubusercontent.com/nltk/nltk_data/gh-pages/index.xml\n"
     ]
    },
    {
     "data": {
      "text/plain": [
       "True"
      ]
     },
     "execution_count": 68,
     "metadata": {},
     "output_type": "execute_result"
    }
   ],
   "source": [
    "# only need to run once\n",
    "nltk.download()"
   ]
  },
  {
   "cell_type": "markdown",
   "metadata": {},
   "source": [
    "#### Reading in Data"
   ]
  },
  {
   "cell_type": "code",
   "execution_count": 72,
   "metadata": {
    "collapsed": false
   },
   "outputs": [],
   "source": [
    "df = pd.read_csv(\"/Users/chuamelia/Downloads/Brand_IDI_Qual.tsv\",sep=\"\\t\")"
   ]
  },
  {
   "cell_type": "markdown",
   "metadata": {},
   "source": [
    "Looking at Structure of Data"
   ]
  },
  {
   "cell_type": "code",
   "execution_count": 73,
   "metadata": {
    "collapsed": false
   },
   "outputs": [
    {
     "data": {
      "text/html": [
       "<div>\n",
       "<table border=\"1\" class=\"dataframe\">\n",
       "  <thead>\n",
       "    <tr style=\"text-align: right;\">\n",
       "      <th></th>\n",
       "      <th>id</th>\n",
       "      <th>a_position_toNYCAASC</th>\n",
       "      <th>b_position_toNYCAASC</th>\n",
       "      <th>embody_Mission</th>\n",
       "      <th>future_Direction</th>\n",
       "      <th>first_Time</th>\n",
       "      <th>logo</th>\n",
       "    </tr>\n",
       "  </thead>\n",
       "  <tbody>\n",
       "    <tr>\n",
       "      <th>0</th>\n",
       "      <td>1</td>\n",
       "      <td>Umm, I guess I do a lot of the upper level man...</td>\n",
       "      <td>I see it as, well I see my role as kinda givin...</td>\n",
       "      <td>I think that a good, I talked about this earli...</td>\n",
       "      <td>I wanna see it reaching more people and being ...</td>\n",
       "      <td>I guess, NYCAASC is kind of divided between th...</td>\n",
       "      <td>The spelling is a little confusing because of ...</td>\n",
       "    </tr>\n",
       "  </tbody>\n",
       "</table>\n",
       "</div>"
      ],
      "text/plain": [
       "   id                               a_position_toNYCAASC  \\\n",
       "0   1  Umm, I guess I do a lot of the upper level man...   \n",
       "\n",
       "                                b_position_toNYCAASC  \\\n",
       "0  I see it as, well I see my role as kinda givin...   \n",
       "\n",
       "                                      embody_Mission  \\\n",
       "0  I think that a good, I talked about this earli...   \n",
       "\n",
       "                                    future_Direction  \\\n",
       "0  I wanna see it reaching more people and being ...   \n",
       "\n",
       "                                          first_Time  \\\n",
       "0  I guess, NYCAASC is kind of divided between th...   \n",
       "\n",
       "                                                logo  \n",
       "0  The spelling is a little confusing because of ...  "
      ]
     },
     "execution_count": 73,
     "metadata": {},
     "output_type": "execute_result"
    }
   ],
   "source": [
    "df.head(1)"
   ]
  },
  {
   "cell_type": "markdown",
   "metadata": {},
   "source": [
    "#### Prepare Functions for Analysis"
   ]
  },
  {
   "cell_type": "markdown",
   "metadata": {},
   "source": [
    "[Table of Word Types][Table of Word Type]\n",
    "[Table of Word Type]: http://www.ling.upenn.edu/courses/Fall_2003/ling001/penn_treebank_pos.html"
   ]
  },
  {
   "cell_type": "code",
   "execution_count": 168,
   "metadata": {
    "collapsed": false
   },
   "outputs": [],
   "source": [
    "#Write function to append all tokens to one list.\n",
    "def stuff_tokenizer(column, list):\n",
    "    discard = ['IN', ',','.','TO', 'DT', 'PRP', 'CC']\n",
    "    end_num = len(column)\n",
    "    temp = []\n",
    "    for i in range(end_num): #append to one list\n",
    "        temp.extend(nltk.word_tokenize(column[i].decode('utf-8')))\n",
    "    temp2 = nltk.pos_tag(temp) #tag words\n",
    "    for i in temp2: #discard prepositions, articles, etc.\n",
    "        if i[1] not in discard: \n",
    "            list.append(i)"
   ]
  },
  {
   "cell_type": "code",
   "execution_count": 74,
   "metadata": {
    "collapsed": true
   },
   "outputs": [
    {
     "data": {
      "text/plain": [
       "'I guess, NYCAASC is kind of divided between the event and then also the group. So we\\xe2\\x80\\x99re both kinda this thing that happens once a year and we\\xe2\\x80\\x99re also this thing that is ongoing like this discussion between almost 50 people. So, I guess I want people to see NYCAASC as this thing that fosters dialogue, fosters active conversations, fosters debate, and encourages personal growth and community growth. Basically, pushing for people to be more comfortable with each other'"
      ]
     },
     "execution_count": 74,
     "metadata": {},
     "output_type": "execute_result"
    }
   ],
   "source": [
    "#add decode('utf-8') bc \"\\xe2\\x80\\x99\" interprtation\n",
    "#ascii' codec can't decode byte\n",
    "#example: df['first_Time'][0]"
   ]
  },
  {
   "cell_type": "markdown",
   "metadata": {},
   "source": [
    "Create empty lists for stuffing."
   ]
  },
  {
   "cell_type": "code",
   "execution_count": 163,
   "metadata": {
    "collapsed": true
   },
   "outputs": [],
   "source": [
    "q1a = []\n",
    "q1b = []\n",
    "q2 = []\n",
    "q3 = []\n",
    "q4 = []\n",
    "q5 = []"
   ]
  },
  {
   "cell_type": "markdown",
   "metadata": {},
   "source": [
    "Stuff Away!"
   ]
  },
  {
   "cell_type": "code",
   "execution_count": 170,
   "metadata": {
    "collapsed": false
   },
   "outputs": [],
   "source": [
    "stuff_tokenizer(df['a_position_toNYCAASC'],q1a)\n",
    "stuff_tokenizer(df['b_position_toNYCAASC'],q1b)\n",
    "stuff_tokenizer(df['embody_Mission'],q2)\n",
    "stuff_tokenizer(df['future_Direction'],q3)\n",
    "stuff_tokenizer(df['first_Time'],q4)\n",
    "stuff_tokenizer(df['logo'],q5)"
   ]
  },
  {
   "cell_type": "markdown",
   "metadata": {},
   "source": [
    "Checking if stuffing worked..."
   ]
  },
  {
   "cell_type": "code",
   "execution_count": 131,
   "metadata": {
    "collapsed": false
   },
   "outputs": [
    {
     "name": "stdout",
     "output_type": "stream",
     "text": [
      "[u'Umm', u',', u'I']\n"
     ]
    }
   ],
   "source": [
    "print q1a[:3]"
   ]
  },
  {
   "cell_type": "code",
   "execution_count": 152,
   "metadata": {
    "collapsed": false
   },
   "outputs": [],
   "source": [
    "dataset = [q1a,q1b,q2,q3,q4,q5]"
   ]
  },
  {
   "cell_type": "code",
   "execution_count": 153,
   "metadata": {
    "collapsed": false
   },
   "outputs": [
    {
     "name": "stdout",
     "output_type": "stream",
     "text": [
      "[]\n",
      "[]\n",
      "[]\n",
      "[]\n",
      "[]\n",
      "[]\n",
      "[((u'is', 'VBZ'), 19), ((u'are', 'VBP'), 17), ((u'people', 'NNS'), 15), ((u'be', 'VB'), 14), ((u'know', 'VBP'), 13)]\n"
     ]
    }
   ],
   "source": [
    "for i in dataset:\n",
    "    common = Counter(i)\n",
    "    print common.most_common(5)\n",
    "# Need to remove prepositions\n",
    "# How can we control for one person repeating the same word?\n",
    "# select distinct words: my_list = list(set(my_list))\n",
    "# compare word counts "
   ]
  },
  {
   "cell_type": "markdown",
   "metadata": {},
   "source": [
    "#### References\n",
    "\n",
    "- Peter Norvig [Everything I Need to Know About NLP I learned from Sesame Street][a1]\n",
    "\n",
    "\n",
    "[a1]: http://nbviewer.jupyter.org/url/norvig.com/ipython/How%20to%20Do%20Things%20with%20Words.ipynb"
   ]
  },
  {
   "cell_type": "code",
   "execution_count": null,
   "metadata": {
    "collapsed": true
   },
   "outputs": [],
   "source": []
  }
 ],
 "metadata": {
  "kernelspec": {
   "display_name": "Python 2",
   "language": "python",
   "name": "python2"
  },
  "language_info": {
   "codemirror_mode": {
    "name": "ipython",
    "version": 2
   },
   "file_extension": ".py",
   "mimetype": "text/x-python",
   "name": "python",
   "nbconvert_exporter": "python",
   "pygments_lexer": "ipython2",
   "version": "2.7.11"
  }
 },
 "nbformat": 4,
 "nbformat_minor": 0
}
