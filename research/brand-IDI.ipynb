{
 "cells": [
  {
   "cell_type": "markdown",
   "metadata": {},
   "source": [
    "Computing Word Frequency for Brand Perception Interviews\n",
    "amongst key stakeholders NYCAASC"
   ]
  },
  {
   "cell_type": "markdown",
   "metadata": {},
   "source": [
    "#### Importing Libraries"
   ]
  },
  {
   "cell_type": "code",
   "execution_count": 69,
   "metadata": {
    "collapsed": false
   },
   "outputs": [],
   "source": [
    "import re\n",
    "from nltk import word_tokenize, pos_tag\n",
    "import math\n",
    "import string\n",
    "from collections import Counter\n",
    "import pandas as pd"
   ]
  },
  {
   "cell_type": "code",
   "execution_count": 68,
   "metadata": {
    "collapsed": false
   },
   "outputs": [
    {
     "name": "stdout",
     "output_type": "stream",
     "text": [
      "showing info https://raw.githubusercontent.com/nltk/nltk_data/gh-pages/index.xml\n"
     ]
    },
    {
     "data": {
      "text/plain": [
       "True"
      ]
     },
     "execution_count": 68,
     "metadata": {},
     "output_type": "execute_result"
    }
   ],
   "source": [
    "# only need to run once\n",
    "nltk.download()"
   ]
  },
  {
   "cell_type": "markdown",
   "metadata": {},
   "source": [
    "#### Reading in Data"
   ]
  },
  {
   "cell_type": "code",
   "execution_count": 2,
   "metadata": {
    "collapsed": false
   },
   "outputs": [],
   "source": [
    "df = pd.read_csv(\"/Users/chuamelia/Downloads/Brand_IDI_Qual.tsv\",sep=\"\\t\")"
   ]
  },
  {
   "cell_type": "markdown",
   "metadata": {},
   "source": [
    "Looking at Structure of Data"
   ]
  },
  {
   "cell_type": "code",
   "execution_count": 3,
   "metadata": {
    "collapsed": false
   },
   "outputs": [
    {
     "data": {
      "text/html": [
       "<div>\n",
       "<table border=\"1\" class=\"dataframe\">\n",
       "  <thead>\n",
       "    <tr style=\"text-align: right;\">\n",
       "      <th></th>\n",
       "      <th>id</th>\n",
       "      <th>a_position_toNYCAASC</th>\n",
       "      <th>b_position_toNYCAASC</th>\n",
       "      <th>embody_Mission</th>\n",
       "      <th>future_Direction</th>\n",
       "      <th>first_Time</th>\n",
       "      <th>logo</th>\n",
       "    </tr>\n",
       "  </thead>\n",
       "  <tbody>\n",
       "    <tr>\n",
       "      <th>0</th>\n",
       "      <td>1</td>\n",
       "      <td>Umm, I guess I do a lot of the upper level man...</td>\n",
       "      <td>I see it as, well I see my role as kinda givin...</td>\n",
       "      <td>I think that a good, I talked about this earli...</td>\n",
       "      <td>I wanna see it reaching more people and being ...</td>\n",
       "      <td>I guess, NYCAASC is kind of divided between th...</td>\n",
       "      <td>The spelling is a little confusing because of ...</td>\n",
       "    </tr>\n",
       "  </tbody>\n",
       "</table>\n",
       "</div>"
      ],
      "text/plain": [
       "   id                               a_position_toNYCAASC  \\\n",
       "0   1  Umm, I guess I do a lot of the upper level man...   \n",
       "\n",
       "                                b_position_toNYCAASC  \\\n",
       "0  I see it as, well I see my role as kinda givin...   \n",
       "\n",
       "                                      embody_Mission  \\\n",
       "0  I think that a good, I talked about this earli...   \n",
       "\n",
       "                                    future_Direction  \\\n",
       "0  I wanna see it reaching more people and being ...   \n",
       "\n",
       "                                          first_Time  \\\n",
       "0  I guess, NYCAASC is kind of divided between th...   \n",
       "\n",
       "                                                logo  \n",
       "0  The spelling is a little confusing because of ...  "
      ]
     },
     "execution_count": 3,
     "metadata": {},
     "output_type": "execute_result"
    }
   ],
   "source": [
    "df.head(1)"
   ]
  },
  {
   "cell_type": "markdown",
   "metadata": {},
   "source": [
    "#### Prepare Functions for Analysis"
   ]
  },
  {
   "cell_type": "markdown",
   "metadata": {},
   "source": [
    "[Table of Word Types][Table of Word Type]\n",
    "[Table of Word Type]: http://www.ling.upenn.edu/courses/Fall_2003/ling001/penn_treebank_pos.html"
   ]
  },
  {
   "cell_type": "code",
   "execution_count": 40,
   "metadata": {
    "collapsed": false
   },
   "outputs": [],
   "source": [
    "#Write function to append all tokens to one list.\n",
    "def stuff_tokenizer(column, list):\n",
    "    discard = ['IN', ',','.','TO', 'DT', 'PRP', 'CC', 'are', 'is', 'um', u'it\\u2019s', 'PRP$']\n",
    "    end_num = len(column)\n",
    "    temp = []\n",
    "    for i in range(end_num): #append to one list\n",
    "        temp.extend(nltk.word_tokenize(column[i].decode('utf-8')))\n",
    "    temp2 = nltk.pos_tag(temp) #tag words\n",
    "    for i in temp2: #discard prepositions, articles, etc.\n",
    "        if i[1] not in discard and i[0] not in discard: \n",
    "            list.append(i)"
   ]
  },
  {
   "cell_type": "code",
   "execution_count": 41,
   "metadata": {
    "collapsed": false
   },
   "outputs": [],
   "source": [
    "#add decode('utf-8') bc \"\\xe2\\x80\\x99\" interprtation\n",
    "#ascii' codec can't decode byte\n",
    "#example: df['first_Time'][0]"
   ]
  },
  {
   "cell_type": "markdown",
   "metadata": {},
   "source": [
    "Create empty lists for stuffing."
   ]
  },
  {
   "cell_type": "code",
   "execution_count": 42,
   "metadata": {
    "collapsed": true
   },
   "outputs": [],
   "source": [
    "q1a = []\n",
    "q1b = []\n",
    "q2 = []\n",
    "q3 = []\n",
    "q4 = []\n",
    "q5 = []"
   ]
  },
  {
   "cell_type": "markdown",
   "metadata": {},
   "source": [
    "Stuff Away!"
   ]
  },
  {
   "cell_type": "code",
   "execution_count": 43,
   "metadata": {
    "collapsed": false
   },
   "outputs": [],
   "source": [
    "stuff_tokenizer(df['a_position_toNYCAASC'],q1a)\n",
    "stuff_tokenizer(df['b_position_toNYCAASC'],q1b)\n",
    "stuff_tokenizer(df['embody_Mission'],q2)\n",
    "stuff_tokenizer(df['future_Direction'],q3)\n",
    "stuff_tokenizer(df['first_Time'],q4)\n",
    "stuff_tokenizer(df['logo'],q5)"
   ]
  },
  {
   "cell_type": "markdown",
   "metadata": {},
   "source": [
    "Checking if stuffing worked..."
   ]
  },
  {
   "cell_type": "code",
   "execution_count": 44,
   "metadata": {
    "collapsed": false
   },
   "outputs": [
    {
     "name": "stdout",
     "output_type": "stream",
     "text": [
      "[(u'Umm', 'NNP'), (u'guess', 'VBP'), (u'do', 'VBP')]\n"
     ]
    }
   ],
   "source": [
    "print q1a[:3]"
   ]
  },
  {
   "cell_type": "code",
   "execution_count": 45,
   "metadata": {
    "collapsed": false
   },
   "outputs": [],
   "source": [
    "dataset = [q1a,q1b,q2,q3,q4,q5]"
   ]
  },
  {
   "cell_type": "code",
   "execution_count": 51,
   "metadata": {
    "collapsed": false
   },
   "outputs": [],
   "source": [
    "for i in dataset:\n",
    "    common = Counter(i)\n",
    "    print common.most_common(5)\n",
    "# Need to remove prepositions\n",
    "# How can we control for one person repeating the same word?\n",
    "# select distinct words: my_list = list(set(my_list))\n",
    "# compare word counts "
   ]
  },
  {
   "cell_type": "code",
   "execution_count": 71,
   "metadata": {
    "collapsed": false
   },
   "outputs": [
    {
     "data": {
      "text/plain": [
       "[((u'people', 'NNS'), 16),\n",
       " ((u'conference', 'NN'), 13),\n",
       " ((u'think', 'VBP'), 12),\n",
       " ((u'know', 'VBP'), 12),\n",
       " ((u'that', 'WDT'), 11),\n",
       " ((u'how', 'WRB'), 11),\n",
       " ((u'space', 'NN'), 10),\n",
       " ((u'So', 'RB'), 10),\n",
       " ((u'so', 'RB'), 10),\n",
       " ((u'what', 'WP'), 10),\n",
       " ((u'just', 'RB'), 9),\n",
       " ((u'right', 'NN'), 9),\n",
       " ((u'want', 'VBP'), 9),\n",
       " ((u'sort', 'NN'), 8),\n",
       " ((u'learn', 'VBP'), 8),\n",
       " ((u'Um', 'NNP'), 8),\n",
       " ((u'NYCAASC', 'NNP'), 7),\n",
       " ((u'feel', 'VBP'), 7),\n",
       " ((u'right', 'RB'), 7),\n",
       " ((u'do', 'VBP'), 6),\n",
       " ((u'more', 'RBR'), 6),\n",
       " ((u'always', 'RB'), 6),\n",
       " ((u'be', 'VB'), 6),\n",
       " ((u'there', 'RB'), 6),\n",
       " ((u'have', 'VBP'), 6),\n",
       " ((u'not', 'RB'), 6),\n",
       " ((u'American', 'NNP'), 5),\n",
       " ((u'mission', 'NN'), 5),\n",
       " ((u'issues', 'NNS'), 5),\n",
       " ((u'Asian', 'JJ'), 5),\n",
       " ((u'really', 'RB'), 5),\n",
       " ((u'need', 'VBP'), 5),\n",
       " ((u'lot', 'NN'), 5),\n",
       " ((u'more', 'JJR'), 4),\n",
       " ((u'like', 'JJ'), 4),\n",
       " ((u'do', 'VB'), 4),\n",
       " ((u'social', 'JJ'), 4),\n",
       " ((u'talk', 'VB'), 4),\n",
       " ((u'NYCAASC\\u2019s', 'NNP'), 4),\n",
       " ((u'event', 'NN'), 4),\n",
       " ((u'well', 'RB'), 4),\n",
       " ((u'providing', 'VBG'), 4),\n",
       " ((u'has', 'VBZ'), 4),\n",
       " ((u'theme', 'NN'), 4),\n",
       " ((u'trying', 'VBG'), 4),\n",
       " ((u'workshops', 'NNS'), 4),\n",
       " ((u'time', 'NN'), 4),\n",
       " ((u'that\\u2019s', 'JJ'), 4),\n",
       " ((u'accessible', 'JJ'), 4),\n",
       " ((u'content', 'NN'), 4),\n",
       " ((u'food', 'NN'), 4),\n",
       " ((u'also', 'RB'), 4),\n",
       " ((u'who', 'WP'), 4),\n",
       " ((u'It\\u2019s', 'NNP'), 4),\n",
       " ((u'performances', 'NNS'), 4),\n",
       " ((u'related', 'JJ'), 3),\n",
       " ((u'guess', 'VBP'), 3),\n",
       " ((u'will', 'MD'), 3),\n",
       " ((u'dialogue', 'NN'), 3),\n",
       " ((u'building', 'VBG'), 3),\n",
       " ((u'like', 'VB'), 3),\n",
       " ((u'can', 'MD'), 3),\n",
       " ((u'kind', 'NN'), 3),\n",
       " ((u'even', 'RB'), 3),\n",
       " ((u'back', 'RB'), 3),\n",
       " ((u'departments', 'NNS'), 3),\n",
       " ((u'see', 'VBP'), 3),\n",
       " ((u'been', 'VBN'), 3),\n",
       " ((u'here', 'RB'), 3),\n",
       " ((u'get', 'VB'), 3),\n",
       " ((u'there', 'EX'), 3),\n",
       " ((u'sure', 'JJ'), 3),\n",
       " ((u'function', 'VB'), 3),\n",
       " ((u'know', 'VB'), 3),\n",
       " ((u'necessary', 'JJ'), 3),\n",
       " ((u'yeah', 'UH'), 3),\n",
       " ((u'other', 'JJ'), 3),\n",
       " ((u'year', 'NN'), 3),\n",
       " ((u'share', 'NN'), 3),\n",
       " ((u'definitely', 'RB'), 3),\n",
       " ((u'yeah', 'NN'), 3),\n",
       " ((u'Uhm', 'NNP'), 3),\n",
       " ((u'then', 'RB'), 3),\n",
       " ((u'out', 'RP'), 3),\n",
       " ((u'we\\u2019re', 'JJ'), 3),\n",
       " ((u'very', 'RB'), 3),\n",
       " ((u'provide', 'VB'), 2),\n",
       " ((u'organizations', 'NNS'), 2),\n",
       " ((u'certain', 'JJ'), 2),\n",
       " ((u'uhm', 'JJ'), 2),\n",
       " ((u'involved', 'VBN'), 2),\n",
       " ((u'reach', 'VB'), 2),\n",
       " ((u'up', 'RP'), 2),\n",
       " ((u'now', 'RB'), 2),\n",
       " ((u'good', 'JJ'), 2),\n",
       " ((u'I\\u2019m', 'NNP'), 2),\n",
       " ((u'community', 'NN'), 2),\n",
       " ((u'coming', 'VBG'), 2),\n",
       " ((u'pretty', 'RB'), 2),\n",
       " ((u'seems', 'VBZ'), 2),\n",
       " ((u'attendance', 'NN'), 2),\n",
       " ((u'open', 'JJ'), 2),\n",
       " ((u'that\\u2019s', 'NN'), 2),\n",
       " ((u'put', 'VB'), 2),\n",
       " ((u'questions', 'NNS'), 2),\n",
       " ((u'scenes', 'NNS'), 2),\n",
       " ((u'different', 'JJ'), 2),\n",
       " ((u'out', 'RB'), 2),\n",
       " ((u'raise', 'VB'), 2),\n",
       " ((u'many', 'JJ'), 2),\n",
       " ((u'mean', 'VBP'), 2),\n",
       " ((u'presence', 'NN'), 2),\n",
       " ((u'obviously', 'RB'), 2),\n",
       " ((u'one', 'CD'), 2),\n",
       " ((u'awareness', 'NN'), 2),\n",
       " ((u'impact', 'NN'), 2),\n",
       " ((u'Uh', 'NNP'), 2),\n",
       " ((u'media', 'NNS'), 2),\n",
       " ((u'others', 'NNS'), 2),\n",
       " ((u'uh', 'NN'), 2),\n",
       " ((u'less', 'RBR'), 2),\n",
       " ((u'all', 'PDT'), 2),\n",
       " ((u'have', 'VB'), 2),\n",
       " ((u'overall', 'JJ'), 2),\n",
       " ((u'committee', 'NN'), 2),\n",
       " ((u'develop', 'VB'), 2),\n",
       " ((u'getting', 'VBG'), 2),\n",
       " ((u'kinda', 'NN'), 2),\n",
       " ((u'way', 'NN'), 2),\n",
       " ((u'question', 'NN'), 2),\n",
       " ((u'order', 'NN'), 2),\n",
       " ((u'AAPI', 'NNP'), 2),\n",
       " ((u'things', 'NNS'), 2),\n",
       " ((u'yeah', 'RB'), 2),\n",
       " ((u'American', 'JJ'), 2),\n",
       " ((u'hone', 'VB'), 2),\n",
       " ((u'Asian-American', 'JJ'), 2),\n",
       " ((u'was', 'VBD'), 2),\n",
       " ((u'direct', 'JJ'), 2),\n",
       " ((u'answer', 'VB'), 2),\n",
       " ((u'which', 'WDT'), 2),\n",
       " ((u'give', 'VB'), 2),\n",
       " ((u'talents', 'NNS'), 2),\n",
       " ((u'policies', 'NNS'), 2),\n",
       " ((u'artists', 'NNS'), 2),\n",
       " ((u'something', 'NN'), 2),\n",
       " ((u'management', 'NN'), 2),\n",
       " ((u'name', 'NN'), 2),\n",
       " ((u'curate', 'VB'), 2),\n",
       " ((u'half', 'NN'), 2),\n",
       " ((u'leadership', 'NN'), 2),\n",
       " ((u'leave', 'VB'), 2),\n",
       " ((u'sense', 'NN'), 2),\n",
       " ((u'goes', 'VBZ'), 1),\n",
       " ((u'course', 'NN'), 1),\n",
       " ((u'stuff', 'NN'), 1),\n",
       " ((u'hue', 'VBN'), 1),\n",
       " ((u'mostly', 'RB'), 1),\n",
       " ((u'AA', 'NNP'), 1),\n",
       " ((u'workshops', 'JJ'), 1),\n",
       " ((u'feeling', 'VBG'), 1),\n",
       " ((u'heritage', 'NN'), 1),\n",
       " ((u'workshops', 'VBN'), 1),\n",
       " ((u'awareness', 'RB'), 1),\n",
       " ((u'amount', 'NN'), 1),\n",
       " ((u'Okay', 'NNP'), 1),\n",
       " ((u'let', 'VB'), 1),\n",
       " ((u'role', 'NN'), 1),\n",
       " ((u'aware', 'JJ'), 1),\n",
       " ((u'keep', 'VB'), 1),\n",
       " ((u'say', 'VB'), 1),\n",
       " ((u'higher', 'JJR'), 1),\n",
       " ((u'we\\u2019re', 'VBP'), 1),\n",
       " ((u'implementing', 'VBG'), 1),\n",
       " ((u'high', 'JJ'), 1),\n",
       " ((u'Identity', 'NN'), 1),\n",
       " ((u'age', 'NN'), 1),\n",
       " ((u'content', 'JJ'), 1),\n",
       " ((u'designer', 'NN'), 1),\n",
       " ((u'came', 'VBD'), 1),\n",
       " ((u'area', 'NN'), 1),\n",
       " ((u'idea', 'NN'), 1),\n",
       " ((u'that\\u2019s', 'NNS'), 1),\n",
       " ((u'upaa', 'JJ'), 1),\n",
       " ((u'isn\\u2019t', 'JJ'), 1),\n",
       " ((u'giving', 'VBG'), 1),\n",
       " ((u'na', 'JJ'), 1),\n",
       " ((u'semester', 'NN'), 1),\n",
       " ((u'clubs', 'NNS'), 1),\n",
       " ((u'leads', 'VBZ'), 1),\n",
       " ((u'huge', 'JJ'), 1),\n",
       " ((u'make', 'VB'), 1),\n",
       " ((u'common', 'JJ'), 1),\n",
       " ((u'does', 'VBZ'), 1),\n",
       " ((u'considering', 'VBG'), 1),\n",
       " ((u'transformative', 'JJ'), 1),\n",
       " ((u'present', 'VB'), 1),\n",
       " ((u'get', 'VBP'), 1),\n",
       " ((u'branding', 'NN'), 1),\n",
       " ((u'type', 'NN'), 1),\n",
       " ((u'society', 'NN'), 1),\n",
       " ((u'organically', 'RB'), 1),\n",
       " ((u'participants', 'NNS'), 1),\n",
       " ((u'everyone', 'NN'), 1),\n",
       " ((u'So', 'NNP'), 1),\n",
       " ((u'chunk', 'NN'), 1),\n",
       " ((u'educational', 'JJ'), 1),\n",
       " ((u'work', 'NN'), 1),\n",
       " ((u'spread', 'NN'), 1),\n",
       " ((u'artistic', 'JJ'), 1),\n",
       " ((u'contribute', 'VB'), 1),\n",
       " ((u'important', 'JJ'), 1),\n",
       " ((u'hope', 'VBP'), 1),\n",
       " ((u'angry', 'JJ'), 1),\n",
       " ((u'fact', 'NN'), 1),\n",
       " ((u'beause', 'NN'), 1),\n",
       " ((u'argument', 'NN'), 1),\n",
       " ((u'topics', 'NNS'), 1),\n",
       " ((u'uhm', 'VB'), 1),\n",
       " ((u'related', 'VBN'), 1),\n",
       " ((u'relation', 'NN'), 1),\n",
       " ((u'exposure', 'NN'), 1),\n",
       " ((u'okay', 'RB'), 1),\n",
       " ((u'facilitate', 'NN'), 1),\n",
       " ((u'go', 'VBP'), 1),\n",
       " ((u'italics', 'NNS'), 1),\n",
       " ((u'uh', 'JJ'), 1),\n",
       " ((u'platform', 'NN'), 1),\n",
       " ((u'come', 'VBP'), 1),\n",
       " ((u'free', 'JJ'), 1),\n",
       " ((u'however', 'RB'), 1),\n",
       " ((u'disconnected', 'VBN'), 1),\n",
       " ((u'April', 'NNP'), 1),\n",
       " ((u'mini-workshops', 'NNS'), 1),\n",
       " ((u'making', 'VBG'), 1),\n",
       " ((u'helping', 'VBG'), 1),\n",
       " ((u'well', 'UH'), 1),\n",
       " ((u'eat', 'VB'), 1),\n",
       " ((u'ancestry', 'NN'), 1),\n",
       " ((u'don\\u2019t', 'VBP'), 1),\n",
       " ((u'target', 'VBP'), 1),\n",
       " ((u'obtaining', 'VBG'), 1),\n",
       " ((u'logistics', 'NNS'), 1),\n",
       " ((u'image', 'NN'), 1),\n",
       " ((u'future', 'NN'), 1),\n",
       " ((u'anything', 'NN'), 1),\n",
       " ((u'musical', 'JJ'), 1),\n",
       " ((u'Issues', 'NNP'), 1),\n",
       " ((u'progressive', 'JJ'), 1),\n",
       " ((u'individually', 'RB'), 1),\n",
       " ((u'contact', 'NN'), 1),\n",
       " ((u'allows', 'VBZ'), 1),\n",
       " ((u'City', 'NNP'), 1),\n",
       " ((u'graphic', 'JJ'), 1),\n",
       " ((u'relates', 'VBZ'), 1),\n",
       " ((u'means', 'VBZ'), 1),\n",
       " ((u'based', 'VBN'), 1),\n",
       " ((u'best', 'RB'), 1),\n",
       " ((u'gatekeeper', 'NN'), 1),\n",
       " ((u'wise', 'JJ'), 1),\n",
       " ((u'opportunities', 'NNS'), 1),\n",
       " ((u'answer', 'NN'), 1),\n",
       " ((u'world', 'NN'), 1),\n",
       " ((u'voice', 'NN'), 1),\n",
       " ((u'thinking', 'VBG'), 1),\n",
       " ((u'random', 'NN'), 1),\n",
       " ((u'comes', 'VBZ'), 1),\n",
       " ((u'marketing', 'NN'), 1),\n",
       " ((u'understandably', 'RB'), 1),\n",
       " ((u'departments', 'VBZ'), 1),\n",
       " ((u'big', 'JJ'), 1),\n",
       " ((u'eloquent', 'JJ'), 1),\n",
       " ((u'facilitate', 'VB'), 1),\n",
       " ((u'strategies', 'NNS'), 1),\n",
       " ((u'sing', 'VBG'), 1),\n",
       " ((u'wan', 'VBP'), 1),\n",
       " ((u'workshops', 'VBZ'), 1),\n",
       " ((u'less', 'JJR'), 1),\n",
       " ((u'uh', 'RP'), 1),\n",
       " ((u'challenge', 'VB'), 1),\n",
       " ((u'director', 'NN'), 1),\n",
       " ((u'legitimate', 'JJ'), 1),\n",
       " ((u'digital', 'JJ'), 1),\n",
       " ((u'workforce', 'NN'), 1),\n",
       " ((u'presenting', 'VBG'), 1),\n",
       " ((u'Sort', 'NNP'), 1),\n",
       " ((u'performers', 'NNS'), 1),\n",
       " ((u'artists', 'VBZ'), 1),\n",
       " ((u'NYAAASC', 'NNP'), 1),\n",
       " ((u'underlined', 'JJ'), 1),\n",
       " ((u'university', 'NN'), 1),\n",
       " ((u'we\\u2019re', 'RB'), 1),\n",
       " ((u'non-profits', 'NNS'), 1),\n",
       " ((u'they\\u2019ll', 'NN'), 1),\n",
       " ((u'deal', 'VBP'), 1),\n",
       " ((u'mini', 'JJ'), 1),\n",
       " ((u'organization', 'NN'), 1),\n",
       " ((u'content', 'VB'), 1),\n",
       " ((u'professors', 'NNS'), 1),\n",
       " ((u'elites', 'NNS'), 1),\n",
       " ((u'cool', 'JJ'), 1),\n",
       " ((u'seem', 'VBP'), 1),\n",
       " ((u'else', 'JJ'), 1),\n",
       " ((u'about', 'RB'), 1),\n",
       " ((u'Getting', 'VBG'), 1),\n",
       " ((u'told', 'VBN'), 1),\n",
       " ((u'People', 'NNS'), 1),\n",
       " ((u'contributions', 'NNS'), 1),\n",
       " ((u'learn', 'VB'), 1),\n",
       " ((u'bold', 'JJ'), 1),\n",
       " ((u'engage', 'VB'), 1),\n",
       " ((u'rather', 'RB'), 1),\n",
       " ((u'orgs', 'NN'), 1),\n",
       " ((u'great', 'JJ'), 1),\n",
       " ((u'that\\u2019s', 'VB'), 1),\n",
       " ((u'day', 'NN'), 1),\n",
       " ((u'available', 'JJ'), 1),\n",
       " ((u'history', 'NN'), 1),\n",
       " ((u'sorry', 'JJ'), 1),\n",
       " ((u'culture', 'NN'), 1),\n",
       " ((u'rest', 'NN'), 1),\n",
       " ((u'outside', 'VB'), 1),\n",
       " ((u'back', 'RP'), 1),\n",
       " ((u'committee\\u2019s', 'NN'), 1),\n",
       " ((u'imagery', 'NN'), 1),\n",
       " ((u'especially', 'RB'), 1),\n",
       " ((u'...', ':'), 1),\n",
       " ((u'heard', 'JJ'), 1),\n",
       " ((u'presenting', 'NN'), 1),\n",
       " ((u'changes', 'VBZ'), 1),\n",
       " ((u'hoping', 'NN'), 1),\n",
       " ((u'States', 'NNPS'), 1),\n",
       " ((u'tool', 'NN'), 1),\n",
       " ((u'times', 'NNS'), 1),\n",
       " ((u'equally', 'RB'), 1),\n",
       " ((u'Oh', 'NNP'), 1),\n",
       " ((u'call', 'VBP'), 1),\n",
       " ((u'skill', 'NN'), 1),\n",
       " ((u'single', 'JJ'), 1),\n",
       " ((u'United', 'NNP'), 1),\n",
       " ((u'go', 'VB'), 1),\n",
       " ((u'much', 'RB'), 1),\n",
       " ((u'what\\u2019s', 'JJ'), 1),\n",
       " ((u'administrators', 'NNS'), 1),\n",
       " ((u'ina', 'JJ'), 1),\n",
       " ((u'York', 'NNP'), 1),\n",
       " ((u'aren\\u2019t', 'RB'), 1),\n",
       " ((u'introductory', 'NN'), 1),\n",
       " ((u'flexible', 'JJ'), 1),\n",
       " ((u'empowered', 'VBN'), 1),\n",
       " ((u'working', 'VBG'), 1),\n",
       " ((u'various', 'JJ'), 1),\n",
       " ((u'New', 'NNP'), 1),\n",
       " ((u'take', 'VB'), 1),\n",
       " ((u'forth', 'NN'), 1),\n",
       " ((u'organizing', 'VBG'), 1),\n",
       " ((u'creates', 'VBZ'), 1),\n",
       " ((u'structures', 'NNS'), 1),\n",
       " ((u'dynamic', 'JJ'), 1),\n",
       " ((u'same', 'JJ'), 1),\n",
       " ((u'gotten', 'VBN'), 1),\n",
       " ((u'right', 'VBP'), 1),\n",
       " ((u'hierarchical', 'JJ'), 1),\n",
       " ((u'new', 'JJ'), 1),\n",
       " ((u'right', 'JJ'), 1),\n",
       " ((u'structural', 'JJ'), 1),\n",
       " ((u'qualities', 'NNS'), 1),\n",
       " ((u'relate', 'VBP'), 1),\n",
       " ((u'brought', 'VBN'), 1),\n",
       " ((u'funds', 'NNS'), 1),\n",
       " ((u'essentially', 'RB'), 1),\n",
       " ((u'understand', 'VBP'), 1),\n",
       " ((u'contribute', 'VBP'), 1),\n",
       " ((u'there\\u2019s', 'VBZ'), 1),\n",
       " ((u'sustainability', 'NN'), 1),\n",
       " ((u'targeting', 'VBG'), 1),\n",
       " ((u'current', 'JJ'), 1),\n",
       " ((u'equipment', 'NN'), 1),\n",
       " ((u'happens', 'VBZ'), 1),\n",
       " ((u'collectiveness', 'NN'), 1),\n",
       " ((u'collaboration', 'NN'), 1),\n",
       " ((u'experiencing', 'VBG'), 1),\n",
       " ((u'hosting', 'VBG'), 1),\n",
       " ((u'There', 'EX'), 1),\n",
       " ((u'best', 'VB'), 1),\n",
       " ((u'activists', 'NNS'), 1),\n",
       " ((u'Who', 'WP'), 1),\n",
       " ((u'version', 'NN'), 1),\n",
       " ((u'serves', 'VBZ'), 1),\n",
       " ((u'legit', 'JJ'), 1),\n",
       " ((u'understand', 'NN'), 1),\n",
       " ((u'answering', 'VBG'), 1),\n",
       " ((u'communities', 'NNS'), 1),\n",
       " ((u'it\\u2019ll', 'NN'), 1),\n",
       " ((u'continue', 'VB'), 1),\n",
       " ((u'rack', 'VB'), 1),\n",
       " ((u'student', 'NN'), 1),\n",
       " ((u'purpose', 'NN'), 1),\n",
       " ((u'putting', 'VBG'), 1),\n",
       " ((u'solidarity', 'NN'), 1),\n",
       " ((u'grow', 'NN'), 1),\n",
       " ((u'yeah', 'VB'), 1),\n",
       " ((u'works', 'VBZ'), 1),\n",
       " ((u'introducing', 'VBG'), 1),\n",
       " ((u'we\\u2019ve', 'VBD'), 1),\n",
       " ((u'job', 'NN'), 1),\n",
       " ((u'leaders', 'NNS'), 1),\n",
       " ((u'help', 'VB'), 1),\n",
       " ((u'done', 'VBN'), 1),\n",
       " ((u'general', 'JJ'), 1),\n",
       " ((u'university\\u2019s', 'JJ'), 1),\n",
       " ((u'integrated', 'JJ'), 1),\n",
       " ((u'lives', 'NNS'), 1),\n",
       " ((u'APA', 'NNP'), 1),\n",
       " ((u'when', 'WRB'), 1),\n",
       " ((u'actual', 'JJ'), 1),\n",
       " ((u'able', 'JJ'), 1)]"
      ]
     },
     "execution_count": 71,
     "metadata": {},
     "output_type": "execute_result"
    }
   ],
   "source": [
    "Counter(q1b).most_common()"
   ]
  },
  {
   "cell_type": "code",
   "execution_count": 59,
   "metadata": {
    "collapsed": true
   },
   "outputs": [],
   "source": [
    "cmn = Counter(q4)"
   ]
  },
  {
   "cell_type": "code",
   "execution_count": 67,
   "metadata": {
    "collapsed": false
   },
   "outputs": [],
   "source": [
    "cmn = {k: v for k, v in cmn.iteritems() if  v > 10}"
   ]
  },
  {
   "cell_type": "code",
   "execution_count": 68,
   "metadata": {
    "collapsed": false
   },
   "outputs": [
    {
     "data": {
      "text/plain": [
       "{(u'also', 'RB'): 11,\n",
       " (u'be', 'VB'): 14,\n",
       " (u'issues', 'NNS'): 12,\n",
       " (u'just', 'RB'): 11,\n",
       " (u'know', 'VBP'): 13,\n",
       " (u'lot', 'NN'): 11,\n",
       " (u'people', 'NNS'): 15,\n",
       " (u'really', 'RB'): 12,\n",
       " (u'that', 'WDT'): 12,\n",
       " (u'thing', 'NN'): 11,\n",
       " (u'think', 'VBP'): 12,\n",
       " (u'want', 'VBP'): 13}"
      ]
     },
     "execution_count": 68,
     "metadata": {},
     "output_type": "execute_result"
    }
   ],
   "source": [
    "cmn"
   ]
  },
  {
   "cell_type": "markdown",
   "metadata": {},
   "source": [
    "#### References\n",
    "\n",
    "- Peter Norvig [Everything I Need to Know About NLP I learned from Sesame Street][a1]\n",
    "\n",
    "\n",
    "[a1]: http://nbviewer.jupyter.org/url/norvig.com/ipython/How%20to%20Do%20Things%20with%20Words.ipynb"
   ]
  }
 ],
 "metadata": {
  "kernelspec": {
   "display_name": "Python 2",
   "language": "python",
   "name": "python2"
  },
  "language_info": {
   "codemirror_mode": {
    "name": "ipython",
    "version": 2
   },
   "file_extension": ".py",
   "mimetype": "text/x-python",
   "name": "python",
   "nbconvert_exporter": "python",
   "pygments_lexer": "ipython2",
   "version": "2.7.11"
  }
 },
 "nbformat": 4,
 "nbformat_minor": 0
}
